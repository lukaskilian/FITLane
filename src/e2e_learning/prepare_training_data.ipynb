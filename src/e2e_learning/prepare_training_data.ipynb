{
 "cells": [
  {
   "cell_type": "markdown",
   "metadata": {},
   "source": [
    "# Trainingsdaten vorbereiten\n",
    "- Zur Erzeugung der Trainingsdaten wurde das entsprechende Skript ausgeführt\n",
    "- Zur Vorbereitung der Trainingsdaten\n",
    "    - werden die Lenkbefehle aus den Protokolldateien ausgelesen,\n",
    "    - wird eine CSV mit Paaren von Dateinamen und Lenkbefehlen erstellt und\n",
    "    - werden die Bilder verkleinert und in Graustufen umgewandelt."
   ]
  },
  {
   "cell_type": "code",
   "execution_count": 75,
   "metadata": {},
   "outputs": [],
   "source": [
    "# Ordner in dem die Trainingsdaten gespeichert sind\n",
    "directory = \"D:/Trainingsdaten\""
   ]
  },
  {
   "cell_type": "markdown",
   "metadata": {},
   "source": [
    "## JSON-Dateien laden"
   ]
  },
  {
   "cell_type": "code",
   "execution_count": 76,
   "metadata": {},
   "outputs": [],
   "source": [
    "test_executions = []\n",
    "\n",
    "import json\n",
    "for i in range(6):\n",
    "    path = f\"{directory}/training_data_{i}/generate-training-data-{i}_protocols.json\"\n",
    "    with open(path) as json_file:\n",
    "        test_executions.append(json.load(json_file))"
   ]
  },
  {
   "cell_type": "markdown",
   "metadata": {},
   "source": [
    "## Lenkbefehle und Kamerabilder extrahieren"
   ]
  },
  {
   "cell_type": "code",
   "execution_count": 117,
   "metadata": {},
   "outputs": [
    {
     "name": "stdout",
     "output_type": "stream",
     "text": [
      "Anzahl der zu nutzenden Datenpaare: 197061\n",
      "Anzahl der Datenpaare, die gelöscht werden sollen: 393\n"
     ]
    }
   ],
   "source": [
    "# extract data\n",
    "data = []\n",
    "to_delete = []\n",
    "for i, ex in enumerate(test_executions):\n",
    "    for run in ex:\n",
    "        snapshots = run[\"snapshots\"]\n",
    "        for snapshot in snapshots:\n",
    "            snapshot_id = snapshot[\"_Snapshot__snapshot_id\"]\n",
    "            parameters = snapshot[\"lane_keeping_task_parameters\"][0]\n",
    "            image_filename = parameters[\"input\"][\"main_camera_image\"][\"filename\"]\n",
    "            command = parameters[\"output\"][\"vehicle_control_command\"]\n",
    "            if command:\n",
    "                steer = command[\"steer\"]\n",
    "                data.append({\"image_filename\": f\"training_data_{i}/img/{image_filename}\", \"steer\": steer})\n",
    "            else:\n",
    "                to_delete.append(f\"training_data_{i}/img/{image_filename}\")\n",
    "print(f\"Anzahl der zu nutzenden Datenpaare: {len(data)}\")\n",
    "print(f\"Anzahl der Datenpaare, die gelöscht werden sollen: {len(to_delete)}\")"
   ]
  },
  {
   "cell_type": "code",
   "execution_count": 118,
   "metadata": {},
   "outputs": [
    {
     "name": "stdout",
     "output_type": "stream",
     "text": [
      "{'image_filename': 'training_data_0/img/front-camera_000001.png', 'steer': -0.049841}\n"
     ]
    }
   ],
   "source": [
    "print(data[0])"
   ]
  },
  {
   "cell_type": "markdown",
   "metadata": {},
   "source": [
    "## Überflüssige Daten löschen\n",
    "- überflüssige Bilder löschen, die keinen passenden Lenkbefehl erhalten haben (z. B. aufgrund der absichtlichen Verschiebung des Fahrzeugs)"
   ]
  },
  {
   "cell_type": "code",
   "execution_count": 102,
   "metadata": {},
   "outputs": [
    {
     "name": "stdout",
     "output_type": "stream",
     "text": [
      "training_data_0/img/front-camera_000000.png\n"
     ]
    }
   ],
   "source": [
    "print(to_delete[0])"
   ]
  },
  {
   "cell_type": "code",
   "execution_count": 39,
   "metadata": {},
   "outputs": [],
   "source": [
    "import os\n",
    "for file in to_delete:\n",
    "    os.remove(f\"{directory}/{file}\")"
   ]
  },
  {
   "cell_type": "code",
   "execution_count": 122,
   "metadata": {},
   "outputs": [
    {
     "name": "stdout",
     "output_type": "stream",
     "text": [
      "{'image_filename': 'img_0_000000.png', 'steer': -0.049841}\n"
     ]
    }
   ],
   "source": [
    "print(data[0])"
   ]
  },
  {
   "cell_type": "markdown",
   "metadata": {},
   "source": [
    "## Extrahierte Daten abspeichern\n",
    "- erzeuge JSON und CSV-Datei"
   ]
  },
  {
   "cell_type": "code",
   "execution_count": 121,
   "metadata": {},
   "outputs": [],
   "source": [
    "import json\n",
    "with open(f'{directory}/data.json', 'w') as jsonfile:\n",
    "        json.dump(data, jsonfile, indent=2)"
   ]
  },
  {
   "cell_type": "code",
   "execution_count": 120,
   "metadata": {},
   "outputs": [],
   "source": [
    "import csv\n",
    "with open(f'{directory}/data.csv', 'w', newline=\"\") as csvfile:\n",
    "    writer = csv.DictWriter(csvfile, fieldnames=[\"image_filename\", \"steer\"], delimiter=\";\")\n",
    "    writer.writeheader()\n",
    "    writer.writerows(data)"
   ]
  },
  {
   "cell_type": "markdown",
   "metadata": {},
   "source": [
    "## Bilder in Graustufen umwandeln und verkleinern"
   ]
  },
  {
   "cell_type": "code",
   "execution_count": null,
   "metadata": {},
   "outputs": [],
   "source": [
    "import cv2\n",
    "for dat in data[:1]:\n",
    "    filename = dat[\"image_filename\"]\n",
    "    image = cv2.imread(f\"{directory}/images/{filename}\")\n",
    "    image = cv2.cvtColor(image, cv2.COLOR_RGB2GRAY)\n",
    "    image = cv2.resize(image, (200, 100))\n",
    "    cv2.imwrite(f'{directory}/grayscale_images/{filename}', image)\n",
    "    print(filename, \" converted and resized\")"
   ]
  },
  {
   "cell_type": "markdown",
   "metadata": {},
   "source": [
    "## Testen: Trainingsdaten laden"
   ]
  },
  {
   "cell_type": "code",
   "execution_count": 192,
   "metadata": {},
   "outputs": [
    {
     "name": "stdout",
     "output_type": "stream",
     "text": [
      "197061  Datenpaare geladen\n"
     ]
    }
   ],
   "source": [
    "import csv\n",
    "data = []\n",
    "with open(f'{directory}/data.csv', 'r', newline=\"\") as csvfile:\n",
    "    reader = csv.DictReader(csvfile, delimiter=\";\")\n",
    "    for row in reader:\n",
    "        data.append(row)\n",
    "print(len(data), \" Datenpaare geladen\")"
   ]
  },
  {
   "cell_type": "markdown",
   "metadata": {},
   "source": [
    "### 1 zufälliges Bild zeigen"
   ]
  },
  {
   "cell_type": "code",
   "execution_count": 207,
   "metadata": {},
   "outputs": [
    {
     "name": "stdout",
     "output_type": "stream",
     "text": [
      "image: img_3_131335.png\n",
      "label: -0.099654\n",
      "(100, 200)\n"
     ]
    },
    {
     "data": {
      "image/png": "[encoded data removed]",
      "text/plain": [
       "<Figure size 432x288 with 1 Axes>"
      ]
     },
     "metadata": {
      "needs_background": "light"
     },
     "output_type": "display_data"
    }
   ],
   "source": [
    "#subdirectory = \"images\"\n",
    "subdirectory = \"grayscale_images\"\n",
    "\n",
    "import matplotlib.pyplot as plt\n",
    "import random\n",
    "\n",
    "index = random.randint(0,190000)\n",
    "image_filename = data[index][\"image_filename\"]\n",
    "steer = data[index][\"steer\"]\n",
    "print(\"image:\", image_filename)\n",
    "print(\"label:\", float(steer))\n",
    "\n",
    "import cv2\n",
    "image = cv2.imread(f\"{directory}/{subdirectory}/{image_filename}\", cv2.IMREAD_UNCHANGED)\n",
    "print(image.shape)\n",
    "#image = cv2.cvtColor(image, cv2.COLOR_BGR2RGB)\n",
    "image = cv2.cvtColor(image, cv2.COLOR_GRAY2RGB)\n",
    "plt.imshow(image)\n",
    "plt.show()"
   ]
  }
 ],
 "metadata": {
  "kernelspec": {
   "display_name": "Python 3",
   "language": "python",
   "name": "python3"
  },
  "language_info": {
   "codemirror_mode": {
    "name": "ipython",
    "version": 3
   },
   "file_extension": ".py",
   "mimetype": "text/x-python",
   "name": "python",
   "nbconvert_exporter": "python",
   "pygments_lexer": "ipython3",
   "version": "3.7.9"
  }
 },
 "nbformat": 4,
 "nbformat_minor": 4
}